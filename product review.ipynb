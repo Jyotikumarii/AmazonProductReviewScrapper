{
 "cells": [
  {
   "cell_type": "code",
   "execution_count": 2,
   "id": "20853f45",
   "metadata": {},
   "outputs": [],
   "source": [
    "from bs4 import BeautifulSoup as bs\n",
    "import requests"
   ]
  },
  {
   "cell_type": "code",
   "execution_count": 28,
   "id": "197a1331",
   "metadata": {},
   "outputs": [],
   "source": [
    "url ='https://www.amazon.in/New-Apple-iPhone-12-64GB/product-reviews/B08L5WHFT9/ref=cm_cr_dp_d_show_all_btm?ie=UTF8&reviewerType=all_reviews'"
   ]
  },
  {
   "cell_type": "code",
   "execution_count": 29,
   "id": "f4be00e3",
   "metadata": {},
   "outputs": [],
   "source": [
    "page_details=requests.get(url)"
   ]
  },
  {
   "cell_type": "code",
   "execution_count": 40,
   "id": "3870098f",
   "metadata": {},
   "outputs": [],
   "source": [
    "html_soup=bs(page_details.content, 'html.parser')"
   ]
  },
  {
   "cell_type": "code",
   "execution_count": 84,
   "id": "36d8c22b",
   "metadata": {},
   "outputs": [],
   "source": [
    "name =html_soup.find_all('span',class_='a-profile-name')\n",
    "\n",
    "reviewer_name=[]\n",
    "\n",
    "for i in range(0,len(name)):\n",
    "    reviewer_name.append(name[i].get_text().lstrip('\\n').rstrip('\\n'))\n"
   ]
  },
  {
   "cell_type": "code",
   "execution_count": 83,
   "id": "2a6bd6bf",
   "metadata": {},
   "outputs": [],
   "source": [
    "title =html_soup.find('div',class_='review-views').find_all('a',class_='review-title')\n",
    "review_title=[]\n",
    "\n",
    "for i in range(0,len(title)):\n",
    "    review_title.append(title[i].get_text().lstrip('\\n').rstrip('\\n'))\n",
    "    \n",
    "rating =html_soup.find('div',class_='review-views').find_all('i',class_='review-rating')\n",
    "review_rating=[]\n",
    "\n",
    "for i in range(0,len(rating)):\n",
    "    review_rating.append(rating[i].get_text().lstrip('\\n').rstrip('\\n'))\n",
    "    \n",
    "\n",
    "description =html_soup.find('div',class_='review-views').find_all('span',class_='review-text')\n",
    "\n",
    "detailed_review=[]\n",
    "\n",
    "for i in range(0,len(description)):\n",
    "    detailed_review.append(description[i].get_text().lstrip('\\n').rstrip('\\n'))\n",
    "\n",
    "    "
   ]
  },
  {
   "cell_type": "code",
   "execution_count": 79,
   "id": "af7f2d72",
   "metadata": {},
   "outputs": [],
   "source": [
    "import pandas as pd\n",
    "df=pd.DataFrame()"
   ]
  },
  {
   "cell_type": "code",
   "execution_count": 82,
   "id": "8c58ca49",
   "metadata": {},
   "outputs": [],
   "source": [
    "df['reviewer_name']=reviewer_name\n",
    "df['review_title']=review_title\n",
    "df['review_rating']=review_rating\n",
    "df['detailed_review']=detailed_review\n",
    "\n",
    "df.to_csv(r'reviews.csv',index=True)\n"
   ]
  }
 ],
 "metadata": {
  "kernelspec": {
   "display_name": "Python 3 (ipykernel)",
   "language": "python",
   "name": "python3"
  },
  "language_info": {
   "codemirror_mode": {
    "name": "ipython",
    "version": 3
   },
   "file_extension": ".py",
   "mimetype": "text/x-python",
   "name": "python",
   "nbconvert_exporter": "python",
   "pygments_lexer": "ipython3",
   "version": "3.9.12"
  }
 },
 "nbformat": 4,
 "nbformat_minor": 5
}
