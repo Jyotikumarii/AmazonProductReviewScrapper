{
 "cells": [
  {
   "cell_type": "code",
   "execution_count": 2,
   "id": "d15db176",
   "metadata": {},
   "outputs": [
    {
     "name": "stdout",
     "output_type": "stream",
     "text": [
      "Collecting autoscraper\n",
      "  Downloading autoscraper-1.1.14-py3-none-any.whl (10 kB)\n",
      "Collecting bs4\n",
      "  Downloading bs4-0.0.1.tar.gz (1.1 kB)\n",
      "Requirement already satisfied: requests in c:\\users\\lenovo\\anaconda3\\lib\\site-packages (from autoscraper) (2.27.1)\n",
      "Requirement already satisfied: lxml in c:\\users\\lenovo\\anaconda3\\lib\\site-packages (from autoscraper) (4.8.0)\n",
      "Requirement already satisfied: beautifulsoup4 in c:\\users\\lenovo\\anaconda3\\lib\\site-packages (from bs4->autoscraper) (4.11.1)\n",
      "Requirement already satisfied: soupsieve>1.2 in c:\\users\\lenovo\\anaconda3\\lib\\site-packages (from beautifulsoup4->bs4->autoscraper) (2.3.1)\n",
      "Requirement already satisfied: certifi>=2017.4.17 in c:\\users\\lenovo\\anaconda3\\lib\\site-packages (from requests->autoscraper) (2021.10.8)\n",
      "Requirement already satisfied: idna<4,>=2.5 in c:\\users\\lenovo\\anaconda3\\lib\\site-packages (from requests->autoscraper) (3.3)\n",
      "Requirement already satisfied: charset-normalizer~=2.0.0 in c:\\users\\lenovo\\anaconda3\\lib\\site-packages (from requests->autoscraper) (2.0.4)\n",
      "Requirement already satisfied: urllib3<1.27,>=1.21.1 in c:\\users\\lenovo\\anaconda3\\lib\\site-packages (from requests->autoscraper) (1.26.9)\n",
      "Building wheels for collected packages: bs4\n",
      "  Building wheel for bs4 (setup.py): started\n",
      "  Building wheel for bs4 (setup.py): finished with status 'done'\n",
      "  Created wheel for bs4: filename=bs4-0.0.1-py3-none-any.whl size=1272 sha256=5776a6e793f5e677dfdc0e2faac9745ae5bb1405555be71eb94b262d6defd539\n",
      "  Stored in directory: c:\\users\\lenovo\\appdata\\local\\pip\\cache\\wheels\\73\\2b\\cb\\099980278a0c9a3e57ff1a89875ec07bfa0b6fcbebb9a8cad3\n",
      "Successfully built bs4\n",
      "Installing collected packages: bs4, autoscraper\n",
      "Successfully installed autoscraper-1.1.14 bs4-0.0.1\n",
      "Note: you may need to restart the kernel to use updated packages.\n"
     ]
    }
   ],
   "source": [
    "pip install autoscraper"
   ]
  },
  {
   "cell_type": "code",
   "execution_count": 3,
   "id": "fb380cf0",
   "metadata": {},
   "outputs": [],
   "source": [
    "from autoscraper import AutoScraper"
   ]
  },
  {
   "cell_type": "code",
   "execution_count": 33,
   "id": "d437093d",
   "metadata": {},
   "outputs": [],
   "source": [
    "amazone_url=\"https://www.amazon.in/s?k=iphone+13\"\n",
    "required_list=[\"₹75,999\",\"Apple iPhone 13 (256GB) - Midnight\",\"1,393\"]"
   ]
  },
  {
   "cell_type": "code",
   "execution_count": 34,
   "id": "29b75042",
   "metadata": {},
   "outputs": [
    {
     "name": "stdout",
     "output_type": "stream",
     "text": [
      "['₹75,999', '₹89,900', '₹76,900', '₹95,999', '₹1,09,900', '₹73,999', '₹79,900', '₹99,990', '₹1,18,900', '₹1,29,900', '₹92,999', '₹99,900', '₹1,07,900', '₹1,19,900', 'Apple iPhone 13 (256GB) - Midnight', 'Apple iPhone 13 (256GB) - Pink', 'Apple iPhone 13 (256GB) - Starlight', 'Apple iPhone 13 (256 GB) - Green', 'Apple iPhone 13 (256GB) - Blue', 'Apple iPhone 13 (256GB) - (Product) RED', 'Apple iPhone 13 (512GB) - Pink', 'Apple iPhone 13 (512GB) - (Product) RED', 'Apple iPhone 13 Mini (256GB) - Pink', 'Apple iPhone 13 (512GB) - Starlight', 'Apple iPhone 13 Mini (256GB) - Blue', 'Apple iPhone 13 (512 GB) - Green', 'Apple iPhone 13 (512GB) - Blue', 'Apple iPhone 13 Mini (256GB) - Starlight', 'Apple iPhone 13 Pro Max (128GB) - Sierra Blue', 'Apple iPhone 13 Mini (512GB) - Starlight', '1,393', '1,410', '1,070', '(15% off)', '880']\n"
     ]
    }
   ],
   "source": [
    "scraper=AutoScraper()\n",
    "result=scraper.build(amazone_url,required_list)\n",
    "print(result)"
   ]
  },
  {
   "cell_type": "code",
   "execution_count": 46,
   "id": "85f53e3c",
   "metadata": {},
   "outputs": [],
   "source": [
    "result1=scraper.get_result_similar(amazone_url,grouped=True)"
   ]
  },
  {
   "cell_type": "code",
   "execution_count": 47,
   "id": "3afa0893",
   "metadata": {},
   "outputs": [],
   "source": [
    "scraper.set_rule_aliases({'rule_h4cq':'Title','rule_icrg':'Price'})\n",
    "scraper.keep_rules(['rule_h4cq','rule_icrg'])\n",
    "scraper.save('amaon-search')"
   ]
  },
  {
   "cell_type": "code",
   "execution_count": 50,
   "id": "6e1d68a6",
   "metadata": {},
   "outputs": [],
   "source": [
    "result1=scraper.get_result_similar('https://www.amazon.in/s?k=iphone+13',group_by_alias=True)\n",
    "result2=scraper.get_result_similar('https://www.amazon.in/s?k=samsung&crid=2YMB9F1WXV52M&sprefix=samsung%2Caps%2C366&ref=nb_sb_noss_2',group_by_alias=True)"
   ]
  },
  {
   "cell_type": "code",
   "execution_count": 51,
   "id": "78919016",
   "metadata": {},
   "outputs": [
    {
     "data": {
      "text/plain": [
       "['₹75,999',\n",
       " '₹89,900',\n",
       " '₹75,999',\n",
       " '₹89,900',\n",
       " '₹76,900',\n",
       " '₹89,900',\n",
       " '₹75,999',\n",
       " '₹89,900',\n",
       " '₹75,999',\n",
       " '₹89,900',\n",
       " '₹75,999',\n",
       " '₹89,900',\n",
       " '₹95,999',\n",
       " '₹1,09,900',\n",
       " '₹95,999',\n",
       " '₹1,09,900',\n",
       " '₹73,999',\n",
       " '₹79,900',\n",
       " '₹73,999',\n",
       " '₹79,900',\n",
       " '₹95,999',\n",
       " '₹1,09,900',\n",
       " '₹99,990',\n",
       " '₹1,09,900',\n",
       " '₹95,999',\n",
       " '₹1,09,900',\n",
       " '₹73,999',\n",
       " '₹79,900',\n",
       " '₹1,18,900',\n",
       " '₹1,29,900',\n",
       " '₹92,999',\n",
       " '₹99,900']"
      ]
     },
     "execution_count": 51,
     "metadata": {},
     "output_type": "execute_result"
    }
   ],
   "source": [
    "result1['Price']"
   ]
  }
 ],
 "metadata": {
  "kernelspec": {
   "display_name": "Python 3 (ipykernel)",
   "language": "python",
   "name": "python3"
  },
  "language_info": {
   "codemirror_mode": {
    "name": "ipython",
    "version": 3
   },
   "file_extension": ".py",
   "mimetype": "text/x-python",
   "name": "python",
   "nbconvert_exporter": "python",
   "pygments_lexer": "ipython3",
   "version": "3.9.12"
  }
 },
 "nbformat": 4,
 "nbformat_minor": 5
}
